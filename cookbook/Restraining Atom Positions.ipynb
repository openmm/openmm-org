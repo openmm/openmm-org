{
 "cells": [
  {
   "cell_type": "markdown",
   "id": "6b971986",
   "metadata": {},
   "source": [
    "## Constraining Atom Positions\n",
    "\n",
    "Sometimes you want to run a simulation in which certain particles have their motion restricted, unable to move too far from where they started.  This is called *restraining* particles (not to be confused with *contraining* particles, in which they are kept completely fixed, and which is described in another entry).\n",
    "\n",
    "Position restraints are typically implemented by adding a harmonic force that binds each particle to its initial position.  The further it moves, the stronger the force pushing it back.  This is generally done by adding a CustomExternalForce to the System.\n",
    "\n",
    "As an example, let's copy the beginning of the `simulatePdb.py` script from the examples directory.  It loads a PDB file consisting of villin in water and builds a System from it."
   ]
  },
  {
   "cell_type": "code",
   "execution_count": 1,
   "id": "760b92bf",
   "metadata": {},
   "outputs": [],
   "source": [
    "from openmm.app import *\n",
    "from openmm import *\n",
    "from openmm.unit import *\n",
    "\n",
    "pdb = PDBFile('input.pdb')\n",
    "forcefield = ForceField('amber14-all.xml', 'amber14/tip3pfb.xml')\n",
    "system = forcefield.createSystem(pdb.topology, nonbondedMethod=PME,\n",
    "                                 nonbondedCutoff=1*nanometer, constraints=HBonds)"
   ]
  },
  {
   "cell_type": "markdown",
   "id": "86b541b9",
   "metadata": {},
   "source": [
    "Now we will create a CustomExternalForce that binds each particle to a specified location."
   ]
  },
  {
   "cell_type": "code",
   "execution_count": 2,
   "id": "be4f6af2",
   "metadata": {},
   "outputs": [
    {
     "data": {
      "text/plain": [
       "2"
      ]
     },
     "execution_count": 2,
     "metadata": {},
     "output_type": "execute_result"
    }
   ],
   "source": [
    "restraint = CustomExternalForce('k*periodicdistance(x, y, z, x0, y0, z0)^2')\n",
    "system.addForce(restraint)\n",
    "restraint.addGlobalParameter('k', 100.0*kilojoules_per_mole/nanometer)\n",
    "restraint.addPerParticleParameter('x0')\n",
    "restraint.addPerParticleParameter('y0')\n",
    "restraint.addPerParticleParameter('z0')"
   ]
  },
  {
   "cell_type": "markdown",
   "id": "0612b156",
   "metadata": {},
   "source": [
    "The energy of each particle equals a global constant `k` multiplied by the square of the distance between the particle's current position (x, y, z) and a reference position (x0, y0, z0).  We specify that x0, y0, and z0 are per-particle parameters, so each particle can have a different reference position.  Also note that we compute the distance with the `periodicdistance()` function.  This takes periodic boundary conditions into account.  If we were instead simulating a non-periodic system, we would specify the energy expression as `'k*((x-x0)^2+(y-y0)^2+(z-z0)^2)'`.\n",
    "\n",
    "Now we call `addParticle()` to tell it which particles to apply the restraining force to.  You can choose the particles in any way you want, depending on your application.  For example, suppose we want to restrain the alpha carbons so the side chains and solvent can equilibrate without large changes to the overall fold.  We could write"
   ]
  },
  {
   "cell_type": "code",
   "execution_count": 3,
   "id": "a4a92abd",
   "metadata": {},
   "outputs": [],
   "source": [
    "for atom in pdb.topology.atoms():\n",
    "    if atom.name == 'CA':\n",
    "        restraint.addParticle(atom.index, pdb.positions[atom.index])"
   ]
  },
  {
   "cell_type": "markdown",
   "id": "c5110d76",
   "metadata": {},
   "source": [
    "Now that we have our System ready, we can create a Simulation and run some dynamics.  The restraint force will limit the motion of backbone."
   ]
  },
  {
   "cell_type": "code",
   "execution_count": 4,
   "id": "d3c2bd84",
   "metadata": {},
   "outputs": [],
   "source": [
    "integrator = LangevinMiddleIntegrator(300*kelvin, 1/picosecond, 0.004*picoseconds)\n",
    "simulation = Simulation(pdb.topology, system, integrator)\n",
    "simulation.context.setPositions(pdb.positions)\n",
    "simulation.step(10)"
   ]
  }
 ],
 "metadata": {
  "kernelspec": {
   "display_name": "Python 3",
   "language": "python",
   "name": "python3"
  },
  "language_info": {
   "codemirror_mode": {
    "name": "ipython",
    "version": 3
   },
   "file_extension": ".py",
   "mimetype": "text/x-python",
   "name": "python",
   "nbconvert_exporter": "python",
   "pygments_lexer": "ipython3",
   "version": "3.9.1"
  }
 },
 "nbformat": 4,
 "nbformat_minor": 5
}
